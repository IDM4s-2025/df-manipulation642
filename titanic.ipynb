{
 "cells": [
  {
   "cell_type": "code",
   "execution_count": null,
   "metadata": {
    "vscode": {
     "languageId": "plaintext"
    }
   },
   "outputs": [],
   "source": [
    "import pandas as pd"
   ]
  },
  {
   "cell_type": "markdown",
   "metadata": {},
   "source": [
    "# Reading data\n",
    "Read the train.csv file as a pandas dataframe."
   ]
  },
  {
   "cell_type": "code",
   "execution_count": null,
   "metadata": {
    "vscode": {
     "languageId": "plaintext"
    }
   },
   "outputs": [],
   "source": [
    "data = pd.read_csv(\"df-manipulation642/train.csv\")"
   ]
  },
  {
   "cell_type": "markdown",
   "metadata": {},
   "source": [
    "# Indexing\n",
    "1. Create a function that returns the name of a passenger given their PassengerId.\n",
    "2. Create a function that returns the PassengerId of a passenger given their Name.\n",
    "3. Print a message with the ID of passenger **Montvila, Rev. Juozas** with the following format: 'The ID pf passenger Montvila, Rev. Juozas is ##'\n",
    "4. Print a message with the name of the passenger with ID **42** with the following format: 'The passenger with ID 42 is X'"
   ]
  },
  {
   "cell_type": "markdown",
   "metadata": {},
   "source": [
    "5. Print all information about the oldest passenger."
   ]
  },
  {
   "cell_type": "code",
   "execution_count": null,
   "metadata": {
    "vscode": {
     "languageId": "plaintext"
    }
   },
   "outputs": [],
   "source": [
    "def name_from_id(id:int,table:pd.DataFrame)->str:\n",
    "    \"\"\"Nombre del pasajero.\n",
    "\n",
    "    Args:\n",
    "        id(int): numero id del pasajero.\n",
    "        table(pandas.DataFrame): archivo csv cargado desde pandas.\n",
    "    \n",
    "    Return:\n",
    "        str: Nombre del pasajero del pasajero.\n",
    "    \n",
    "    \"\"\"\n",
    "    in_num = table[\"PassengerId\"][0]\n",
    "    fin_num = table[\"PassengerId\"][len(table[\"PassengerId\"].index)-1]\n",
    "    if ((id>=in_num) and (id<=fin_num)):\n",
    "        row = id-in_num\n",
    "        return table[\"Name\"][row]\n",
    "    else:\n",
    "        return \"id out of range.\"\n",
    "\n",
    "def id_from_name(name:str,table:pd.DataFrame)->int:\n",
    "    \"\"\"Id del pasajero.\n",
    "\n",
    "    Args:\n",
    "        name(str): nombre completo y exacto del pasajero.\n",
    "        table(pandas.DataFrame): archivo csv cargado desde pandas.\n",
    "    \n",
    "    Return:\n",
    "        int: Numero identificador del pasajero.\n",
    "    \n",
    "    \"\"\"\n",
    "    for i in range(len(table[\"Name\"].index)):\n",
    "        if (name == table[\"Name\"][i]):\n",
    "            return int(table[\"PassengerId\"][i])\n",
    "    return -1"
   ]
  },
  {
   "cell_type": "code",
   "execution_count": null,
   "metadata": {
    "vscode": {
     "languageId": "plaintext"
    }
   },
   "outputs": [],
   "source": [
    "print(\"The Id of Montvila, Rev. Juozas is\" ,id_from_name(\"Montvila, Rev. Juozas\",data))\n",
    "print(\"the passenger with ID 42 is\",name_from_id(42,data))"
   ]
  },
  {
   "cell_type": "code",
   "execution_count": null,
   "metadata": {
    "vscode": {
     "languageId": "plaintext"
    }
   },
   "outputs": [],
   "source": [
    "row = data[\"Age\"].idmax()\n",
    "print(data.iloc[row])\n"
   ]
  },
  {
   "cell_type": "markdown",
   "metadata": {},
   "source": [
    "# Subseting\n",
    "We are asked to share data for analysis by a third party. Since our dataset contains personal details, we only want to share with them the following information: ticket classes, fares and port of embarkation. We are asked to deliver a sample of the first 100 rows of this dataset.\n",
    "\n",
    "6. Create and save the new dataset in **data/port_fares.csv**."
   ]
  },
  {
   "cell_type": "code",
   "execution_count": null,
   "metadata": {
    "vscode": {
     "languageId": "plaintext"
    }
   },
   "outputs": [],
   "source": [
    "new_table = {\"ticket classes\":data[\"Pclass\"],\"fares\":data[\"Fare\"],\"embarkation\":data[\"Embarked\"]}\n",
    "new_table = pd.DataFrame(new_table)\n",
    "new_table.to_csv(\"df-manipulation642/port_fares.csv\")\n",
    "file = open(\"df-manipulation642/port_fares.csv\",\"r\")\n",
    "temp = file.read()[1:]\n",
    "file.close()\n",
    "file = open(\"df-manipulation642/port_fares.csv\",\"w\")\n",
    "file.write(temp)\n",
    "file.close()\n"
   ]
  },
  {
   "cell_type": "markdown",
   "metadata": {},
   "source": [
    "# Counting\n",
    "7. We want to know if there were any survivors over the age of 60, print all of their information.\n",
    "8. How many people over 60 survived?\n",
    "9. What percentage of people over 60 survived?"
   ]
  },
  {
   "cell_type": "code",
   "execution_count": null,
   "metadata": {
    "vscode": {
     "languageId": "plaintext"
    }
   },
   "outputs": [],
   "source": [
    "ageid = data.index[data['Age'] >= 60].tolist()\n",
    "surviveid = data.index[data[\"Survived\"] == 1].tolist()\n",
    "survived_60 = list(set(ageid) & set(surviveid))\n",
    "for i in survived_60:\n",
    "    print(data.iloc[i])"
   ]
  },
  {
   "cell_type": "code",
   "execution_count": null,
   "metadata": {
    "vscode": {
     "languageId": "plaintext"
    }
   },
   "outputs": [],
   "source": [
    "print(\"Num of persons that survived and are over 60 years old:\",len(survived_60))\n",
    "print(\"Porcentage de personas que sobrevivieron que tienen mas de 60 años: %\",100*len(survived_60)/len(data[\"name\"].index))"
   ]
  },
  {
   "cell_type": "markdown",
   "metadata": {},
   "source": [
    "# Women and children first?\n",
    "10. Find out if women and children were more likely to survive."
   ]
  },
  {
   "cell_type": "markdown",
   "metadata": {},
   "source": [
    "11. Write a function that returns the percentage of people that survived from a subset given as a boolean Pandas series."
   ]
  },
  {
   "cell_type": "markdown",
   "metadata": {},
   "source": [
    "# Summarizing\n",
    "\n",
    "12. What is the median age of the passengers?\n",
    "13. How many passengers embarked from each port?"
   ]
  },
  {
   "cell_type": "markdown",
   "metadata": {},
   "source": [
    "14. Generate two hypotheses about how does the survival rate differ among groups of passengers. Write your code to explore both hypotheses."
   ]
  }
 ],
 "metadata": {
  "kernelspec": {
   "display_name": "mas",
   "language": "python",
   "name": "python3"
  },
  "language_info": {
   "codemirror_mode": {
    "name": "ipython",
    "version": 3
   },
   "file_extension": ".py",
   "mimetype": "text/x-python",
   "name": "python",
   "nbconvert_exporter": "python",
   "pygments_lexer": "ipython3",
   "version": "3.13.0"
  }
 },
 "nbformat": 4,
 "nbformat_minor": 2
}
